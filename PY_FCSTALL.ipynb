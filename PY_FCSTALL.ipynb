#! python3.7
import nbformat
from nbconvert.preprocessors import ExecutePreprocessor
import os
import ftplib
import zipfile
from ftplib import FTP
import csv
import numpy as np
import pandas as pd
import time
import shutil
from datetime import date, timedelta

yesterday = date.today() - timedelta(1)
desdeftp='C:/Users/herubio/Documents/Verificaci�n_FCSTall/DESDE FTP/'
haciabi='C:/Users/herubio/Documents/Verificaci�n_FCSTall/HACIA BI/'
archivohoy=''+time.strftime('%Y%m%d')+'_FCSTall.csv'
archivohoyftp=''+time.strftime('%Y%m%d')+'_FCTall.csv'
archivoayer=''+yesterday.strftime('%Y%m%d')+'_FCSTall.csv'
sharepoint='C:/Users/herubio/Aerovias del Continente Americano S.A. AVIANCA/SharePoint CRMS - FcstAll/'

#CONECTAR A FTP Y DEFINIR DIRECTORIO:
host = '172.17.10.5'
ftp = FTP(host)
ftp.login('etp_ftp','\cfRT:')
ftp.cwd('Toolbox')
ftp.cwd('FCTalls')

#RUTA DONDE SE VA UBICAR, NOMBRE:
out = desdeftp+archivohoy
with open(out, 'wb') as f:
    ftp.retrbinary('RETR '+archivohoyftp, f.write) 
ftp.close()
print('Connection closed.')

#SUMAR COLUMNA 'PHYCAP_C':
os.chdir(desdeftp)
df = pd.read_csv(archivohoy,delimiter=';', low_memory=False)
total = df['PHYCAP_C'].sum()
print(total)

#COMPORBAR QUE SUMA DE 'PHYCAP_C' SE ENCUENTRA DENTRO DE LOS L�MITES Y DEFINIR ACCI�N A TOMAR:
SUPERIOR = (3277906*1.15)
INFERIOR = (3277906*0.85)

if total >= INFERIOR and total <= SUPERIOR:
    shutil.copy(desdeftp+archivohoy, haciabi+archivohoy)
    shutil.copy(haciabi+archivohoy, sharepoint+archivohoy)
    print (archivohoy+' ''Archivo verificado y movido a SP')
    import win32com.client as win32
    outlook = win32.Dispatch('outlook.application')
    mail = outlook.createitem(0)
    mail.To = 'hector.rubio@avianca.com;he.rubio119@gmail.com'
    mail.Subject= 'OK > FCSTAall.csv HOY'
    mail.Body = 'mensaje'
    mail.HTMLBody= '<h5 style= color="dark blue"; font-family:"calibri light";"><p>Buenos d�as,<br><br>Comparto estado de FCSTall.csv de hoy:<br><br>Cargado en SharepointCRMS = OK<br>Verificado = OK<br><br>Feliz d�a!<br><br>Esteban Rubio<br>Gerencia de Sistemas de Optimizaci�n de Ingresos y Comercial<br></p></h5>'
    mail.Send()
else:
    os.chdir(haciabi)
    new =pd.read_csv(archivoayer,delimiter=';', low_memory=False)
    new.ASOF = yesterday.strftime("%d/%m/%y")
    new.to_csv(file, encoding='utf-8', sep=';',index=False, mode='w')
    shutil.copy(haciabi+file, sharepoint+archivohoy)
    print (archivohoy+' ''ARCHIVO CARGADO CON INFORMACI�N DE AYER')
    import win32com.client as win32
    outlook = win32.Dispatch('outlook.application')
    mail = outlook.createitem(0)
    mail.To = 'hector.rubio@avianca.com'
    mail.Subject= 'WARNING > FCSTAall.csv HOY'
    mail.Body = 'mensaje'
    mail.HTMLBody= '<h5 style= color="dark blue"; font-family:"calibri light";"><p>Buenos d�as,<br><br>Comparto estado de FCSTall.csv de hoy:<br><br>Cargado en SharepointCRMS = OK<br>Corregido y verificado = OK <br><br>WARNING: Archivo con informaci�n de  de ayer.<br><br>Feliz d�a!<br><br>Esteban Rubio<br>Gerencia de Sistemas de Optimizaci�n de Ingresosy Comercial</p></h5>'
    mail.Send()
